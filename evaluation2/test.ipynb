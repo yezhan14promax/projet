{
 "cells": [
  {
   "cell_type": "code",
   "execution_count": 5,
   "metadata": {},
   "outputs": [
    {
     "name": "stdout",
     "output_type": "stream",
     "text": [
      "GMAIL_USER = yezhanyz@gmail.com\n",
      "GMAIL_PASS = ***\n",
      "✅ 测试邮件发送成功\n"
     ]
    }
   ],
   "source": [
    "import os\n",
    "import smtplib\n",
    "from email.mime.text import MIMEText\n",
    "from dotenv import load_dotenv\n",
    "\n",
    "# ✅ 兼容 Notebook\n",
    "load_dotenv(dotenv_path='../.env')\n",
    "\n",
    "gmail_user = os.getenv(\"GMAIL_USER\")\n",
    "gmail_pass = os.getenv(\"GMAIL_PASS\")\n",
    "\n",
    "print(f\"GMAIL_USER = {gmail_user}\")\n",
    "print(f\"GMAIL_PASS = {'***' if gmail_pass else None}\")\n",
    "\n",
    "msg = MIMEText(\"这是一封测试邮件。你好！\")\n",
    "msg['Subject'] = \"Test Mail\"\n",
    "msg['From'] = gmail_user\n",
    "msg['To'] = \"zhan.ye@edu.ece.fr\"  # 改成你自己的邮箱测试\n",
    "\n",
    "try:\n",
    "    server = smtplib.SMTP(\"smtp.gmail.com\", 587)\n",
    "    server.starttls()\n",
    "    server.login(gmail_user, gmail_pass)\n",
    "    server.sendmail(gmail_user, [msg['To']], msg.as_string())\n",
    "    server.quit()\n",
    "    print(\"✅ 测试邮件发送成功\")\n",
    "except Exception as e:\n",
    "    print(f\"❌ 邮件发送失败: {e}\")\n"
   ]
  }
 ],
 "metadata": {
  "kernelspec": {
   "display_name": "soa",
   "language": "python",
   "name": "python3"
  },
  "language_info": {
   "codemirror_mode": {
    "name": "ipython",
    "version": 3
   },
   "file_extension": ".py",
   "mimetype": "text/x-python",
   "name": "python",
   "nbconvert_exporter": "python",
   "pygments_lexer": "ipython3",
   "version": "3.11.11"
  }
 },
 "nbformat": 4,
 "nbformat_minor": 2
}
