{
 "cells": [
  {
   "cell_type": "code",
   "execution_count": 8,
   "metadata": {},
   "outputs": [
    {
     "name": "stdout",
     "output_type": "stream",
     "text": [
      "🚀 Sending message to Kafka topic 'acceptation'...\n",
      "✅ Message sent!\n"
     ]
    }
   ],
   "source": [
    "import asyncio\n",
    "import json\n",
    "from aiokafka import AIOKafkaProducer\n",
    "\n",
    "KAFKA_BROKER = \"localhost:9092\"\n",
    "TOPIC = \"acceptation\"\n",
    "\n",
    "test_data = {\n",
    "    \"name\": \"王松\",\n",
    "    \"gender\": \"m\",\n",
    "    \"birth_date\": \"09091999\",\n",
    "    \"id_number\": \"1234\",\n",
    "    \"address\": \"Versailles\",\n",
    "    \"email\": \"zhan.ye@edu.ece.fr\",\n",
    "    \"loan_type\": \"c\",\n",
    "    \"loan_amount\": 80,\n",
    "    \"assets\": 500,\n",
    "    \"annual_income\": 5000,\n",
    "    \"debt\": 0,\n",
    "    \"max_loan\": 25250.0,\n",
    "    \"assurances\": True,\n",
    "    \"duree\": 12\n",
    "}\n",
    "\n",
    "async def send_test_message():\n",
    "    producer = AIOKafkaProducer(\n",
    "        bootstrap_servers=KAFKA_BROKER,\n",
    "        value_serializer=lambda v: json.dumps(v).encode(\"utf-8\")\n",
    "    )\n",
    "    await producer.start()\n",
    "    try:\n",
    "        print(f\"🚀 Sending message to Kafka topic '{TOPIC}'...\")\n",
    "        await producer.send(TOPIC, test_data)\n",
    "        print(\"✅ Message sent!\")\n",
    "    finally:\n",
    "        await producer.stop()\n",
    "\n",
    "# ✅ 用这种方式在 Jupyter 中运行 asyncio 协程\n",
    "await send_test_message()\n",
    "\n"
   ]
  }
 ],
 "metadata": {
  "kernelspec": {
   "display_name": "soa",
   "language": "python",
   "name": "python3"
  },
  "language_info": {
   "codemirror_mode": {
    "name": "ipython",
    "version": 3
   },
   "file_extension": ".py",
   "mimetype": "text/x-python",
   "name": "python",
   "nbconvert_exporter": "python",
   "pygments_lexer": "ipython3",
   "version": "3.11.11"
  }
 },
 "nbformat": 4,
 "nbformat_minor": 2
}
